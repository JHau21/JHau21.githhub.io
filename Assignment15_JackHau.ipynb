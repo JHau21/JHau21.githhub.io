{
  "nbformat": 4,
  "nbformat_minor": 0,
  "metadata": {
    "colab": {
      "name": "Assignment15-template.ipynb",
      "provenance": [],
      "include_colab_link": true
    },
    "kernelspec": {
      "name": "python3",
      "display_name": "Python 3"
    },
    "language_info": {
      "name": "python"
    }
  },
  "cells": [
    {
      "cell_type": "markdown",
      "metadata": {
        "id": "view-in-github",
        "colab_type": "text"
      },
      "source": [
        "<a href=\"https://colab.research.google.com/github/JHau21/JHau21.github.io/blob/main/Assignment15_JackHau.ipynb\" target=\"_parent\"><img src=\"https://colab.research.google.com/assets/colab-badge.svg\" alt=\"Open In Colab\"/></a>"
      ]
    },
    {
      "cell_type": "markdown",
      "source": [
        "## Assignment 15 Template"
      ],
      "metadata": {
        "id": "2QESRbyK731U"
      }
    },
    {
      "cell_type": "markdown",
      "source": [
        "### Imports\n",
        "\n",
        "Don't touch these; we need them for the scraper to work correctly."
      ],
      "metadata": {
        "id": "fvws--Qn8ALT"
      }
    },
    {
      "cell_type": "code",
      "execution_count": 2,
      "metadata": {
        "id": "1w8eCSaj73Xh"
      },
      "outputs": [],
      "source": [
        "from urllib.request import urlopen\n",
        "from bs4 import BeautifulSoup"
      ]
    },
    {
      "cell_type": "markdown",
      "source": [
        "### Getting the URL\n",
        "\n",
        "In the next cell, place the code to open the URL, and assign it to a variable."
      ],
      "metadata": {
        "id": "ObNR62I78I3C"
      }
    },
    {
      "cell_type": "code",
      "source": [
        "# Code here.\n",
        "url = \"http://anthonypinter.com/assignment15-source.html\"\n",
        "html = urlopen(url)"
      ],
      "metadata": {
        "id": "GkVWBZ5s8RTT"
      },
      "execution_count": 6,
      "outputs": []
    },
    {
      "cell_type": "markdown",
      "source": [
        "### Making the Soup\n",
        "\n",
        "In the next cell, place the code to make the soup."
      ],
      "metadata": {
        "id": "jB_g4DTK8SgM"
      }
    },
    {
      "cell_type": "code",
      "source": [
        "# Code here.\n",
        "soup = BeautifulSoup(html, \"lxml\")"
      ],
      "metadata": {
        "id": "6PbrmzzS8W2D"
      },
      "execution_count": 7,
      "outputs": []
    },
    {
      "cell_type": "markdown",
      "source": [
        "### Country Name\n",
        "\n",
        "In the next cell, put the code to scrape the name of the country you selected (it cannot be Andorra or Zimbabwe). After you scrape the country's name, print it as a string."
      ],
      "metadata": {
        "id": "6PfPLJ3G8X2a"
      }
    },
    {
      "cell_type": "code",
      "source": [
        "# Code here.\n",
        "countryRows = soup.find(\"body\").find(\"div\", id = \"page\").find(\"section\", id = \"countries\").find(\"div\", class_ = \"container\").find_all(\"div\", class_ = \"row\")\n",
        "countryName = None\n",
        "country = None\n",
        "# Not really sure if there is a better way to do this but I counted rows till I got to my country (Norway)\n",
        "for i in range(len(countryRows)):\n",
        "  if i == 58:\n",
        "    countryRow = countryRows[i].find_all(\"div\", class_ = \"col-md-4 country\")\n",
        "    # Again, not sure the best approach but Norway is in the middle of the row\n",
        "    for i in range(len(countryRow)):\n",
        "      if i == 1:\n",
        "        country = countryRow[i]\n",
        "\n",
        "# Country Name\n",
        "print(country.find(\"h3\", \"country-name\").get_text())"
      ],
      "metadata": {
        "id": "zJzGfr6-8sVr",
        "outputId": "96f850fe-4f41-47a7-dc91-03cf637fd82c",
        "colab": {
          "base_uri": "https://localhost:8080/"
        }
      },
      "execution_count": 44,
      "outputs": [
        {
          "output_type": "stream",
          "name": "stdout",
          "text": [
            "\n",
            "\n",
            "                            Norway\n",
            "                        \n"
          ]
        }
      ]
    },
    {
      "cell_type": "markdown",
      "source": [
        "### Country Capital\n",
        "\n",
        "In the next cell, put the code to scrape the name of the capital of the country you selected. After you scrape the country's capital's name, print it as a string."
      ],
      "metadata": {
        "id": "ISAcFbWa8t7R"
      }
    },
    {
      "cell_type": "code",
      "source": [
        "# Code here.\n",
        "print(country.find(\"div\", class_ = \"country-info\").find(\"span\", class_ = \"country-capital\").get_text())"
      ],
      "metadata": {
        "id": "5XUFuLAp815H",
        "outputId": "19250b5b-3538-429d-d79d-d1f569c25eeb",
        "colab": {
          "base_uri": "https://localhost:8080/"
        }
      },
      "execution_count": 46,
      "outputs": [
        {
          "output_type": "stream",
          "name": "stdout",
          "text": [
            "Oslo\n"
          ]
        }
      ]
    },
    {
      "cell_type": "markdown",
      "source": [
        "### Country Population\n",
        "\n",
        "In the next cell, put the code to scrape the population of the country you selected. After you scrape the country's population, print it as a string."
      ],
      "metadata": {
        "id": "U0tmmp-y84Zr"
      }
    },
    {
      "cell_type": "code",
      "source": [
        "# Code here.\n",
        "print(country.find(\"div\", class_ = \"country-info\").find(\"span\", class_ = \"country-population\").get_text())"
      ],
      "metadata": {
        "id": "4BuQEtYS9FZY",
        "outputId": "9fe71d95-fe4a-416c-e992-3ca15f76b68e",
        "colab": {
          "base_uri": "https://localhost:8080/"
        }
      },
      "execution_count": 47,
      "outputs": [
        {
          "output_type": "stream",
          "name": "stdout",
          "text": [
            "5009150\n"
          ]
        }
      ]
    },
    {
      "cell_type": "markdown",
      "source": [
        "### Country Area\n",
        "\n",
        "In the next cell, put the code to scrape the geographic size of the country you selected. After you scrape the country's size, print it as a string."
      ],
      "metadata": {
        "id": "coOJuuuI9GvG"
      }
    },
    {
      "cell_type": "code",
      "source": [
        "# Code here.\n",
        "print(country.find(\"div\", class_ = \"country-info\").find(\"span\", class_ = \"country-area\").get_text())"
      ],
      "metadata": {
        "id": "-gOdrVoF9Lyy",
        "outputId": "1652a9b6-9169-4026-b548-6c86ce808da8",
        "colab": {
          "base_uri": "https://localhost:8080/"
        }
      },
      "execution_count": 48,
      "outputs": [
        {
          "output_type": "stream",
          "name": "stdout",
          "text": [
            "324220.0\n"
          ]
        }
      ]
    }
  ]
}